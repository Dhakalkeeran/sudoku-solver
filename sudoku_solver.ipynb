{
 "cells": [
  {
   "cell_type": "code",
   "execution_count": 1,
   "metadata": {},
   "outputs": [],
   "source": [
    "#sudoku to be solved\n",
    "puzzle = [[5, 3, 0, 0, 7, 0, 0, 0, 0],\n",
    "         [6, 0, 0, 1, 9, 5, 0, 0, 0],\n",
    "         [0, 9, 8, 0, 0, 0, 0, 6, 0],\n",
    "         [8, 0, 0, 0, 6, 0, 0, 0, 3],\n",
    "         [4, 0, 0, 8, 0, 3, 0, 0, 1],\n",
    "         [7, 0, 0, 0, 2, 0, 0, 0, 6],\n",
    "         [0, 6, 0, 0, 0, 0, 2, 8, 0],\n",
    "         [0, 0, 0, 4, 1, 9, 0, 0, 5],\n",
    "         [0, 0, 0, 0, 8, 0, 0, 0, 0]]"
   ]
  },
  {
   "cell_type": "code",
   "execution_count": 2,
   "metadata": {},
   "outputs": [],
   "source": [
    "import numpy as np\n",
    "from copy import deepcopy     #importing this library to copy lists \n",
    "solutions = []"
   ]
  },
  {
   "cell_type": "code",
   "execution_count": 3,
   "metadata": {},
   "outputs": [],
   "source": [
    "def fill(x, y, n):       #x postion, y position and n = from which number the search is to be initiated\n",
    "    global puzzle        #using global keyword with the variable to modify the variable inside the function\n",
    "    for n in range(n, 10):\n",
    "        flag = True\n",
    "        \n",
    "        #figuring out the presence of number in 3*3 square boxes\n",
    "        x1 = (x // 3) * 3\n",
    "        y1 = (y // 3) * 3\n",
    "        for i in range(x1, x1+3):\n",
    "            for j in range(y1, y1+3):\n",
    "                if puzzle[j][i] == n:\n",
    "                    flag = False\n",
    "         \n",
    "        #figuring out the presence of number in horizontal or vertical line\n",
    "        for i in range(9):\n",
    "            if puzzle[y][i] == n or puzzle[i][x] == n:\n",
    "                flag = False\n",
    "                \n",
    "        if flag:        \n",
    "            return n\n",
    "    \n",
    "    return None"
   ]
  },
  {
   "cell_type": "code",
   "execution_count": 4,
   "metadata": {
    "scrolled": true
   },
   "outputs": [
    {
     "name": "stdout",
     "output_type": "stream",
     "text": [
      "1\n",
      "5\n"
     ]
    }
   ],
   "source": [
    "print(fill(2, 0, 1))\n",
    "print(fill(4, 4, 1))"
   ]
  },
  {
   "cell_type": "code",
   "execution_count": 5,
   "metadata": {},
   "outputs": [],
   "source": [
    "def find(i, j):\n",
    "    global puzzle             #using global keyword with the variable to modify the variable inside the function\n",
    "    is_zero = False\n",
    "    \n",
    "    #checking if there is empty slot to be updated characterized by number '0'\n",
    "    for y in range(9):\n",
    "        for x in range(9):\n",
    "            if puzzle[y][x] == 0:\n",
    "                is_zero = True\n",
    "    \n",
    "    #printing the solution and appending it if there is no empty slot\n",
    "    if is_zero == False:\n",
    "        print(np.matrix(puzzle))\n",
    "        result = deepcopy(puzzle)\n",
    "        solutions.append(result)\n",
    "        input(\"\\nAnother Solution?\\n\")\n",
    "        \n",
    "    #print(is_zero)\n",
    "    puzzle[j][i] = fill(i, j, puzzle[j][i] + 1)     #finding a number to fill the slot in the puzzle\n",
    "    #print(np.matrix(puzzle), \"\\n\")\n",
    "    \n",
    "    #if a number is found to be filled in the empty slot, solve for next slot; else make it the empty slot again by \n",
    "    #by inserting number '0' in the slot and return to the previous slot\n",
    "    if puzzle[j][i] != None:\n",
    "        solve()\n",
    "        find(i, j)\n",
    "    else:\n",
    "        puzzle[j][i] = 0\n",
    "        return"
   ]
  },
  {
   "cell_type": "code",
   "execution_count": 6,
   "metadata": {},
   "outputs": [],
   "source": [
    "def solve():\n",
    "    global puzzle             #using global keyword with the variable to modify the variable inside the function\n",
    "    for j in range(9):\n",
    "        for i in range(9):\n",
    "            if puzzle[j][i] == 0:      #checking if there is any empty slot to be filled\n",
    "                find(i, j)\n",
    "                return"
   ]
  },
  {
   "cell_type": "code",
   "execution_count": 7,
   "metadata": {},
   "outputs": [
    {
     "name": "stdout",
     "output_type": "stream",
     "text": [
      "[[5 3 4 6 7 8 1 9 2]\n",
      " [6 7 2 1 9 5 3 4 8]\n",
      " [1 9 8 3 4 2 5 6 7]\n",
      " [8 5 9 7 6 1 4 2 3]\n",
      " [4 2 6 8 5 3 9 7 1]\n",
      " [7 1 3 9 2 4 8 5 6]\n",
      " [9 6 1 5 3 7 2 8 4]\n",
      " [2 8 7 4 1 9 6 3 5]\n",
      " [3 4 5 2 8 6 7 1 9]]\n",
      "\n",
      "Another Solution?\n",
      "\n",
      "[[5 3 4 6 7 8 9 1 2]\n",
      " [6 7 2 1 9 5 3 4 8]\n",
      " [1 9 8 3 4 2 5 6 7]\n",
      " [8 5 9 7 6 1 4 2 3]\n",
      " [4 2 6 8 5 3 7 9 1]\n",
      " [7 1 3 9 2 4 8 5 6]\n",
      " [9 6 1 5 3 7 2 8 4]\n",
      " [2 8 7 4 1 9 6 3 5]\n",
      " [3 4 5 2 8 6 1 7 9]]\n",
      "\n",
      "Another Solution?\n",
      "\n"
     ]
    }
   ],
   "source": [
    "solve()"
   ]
  },
  {
   "cell_type": "code",
   "execution_count": 8,
   "metadata": {},
   "outputs": [
    {
     "data": {
      "text/plain": [
       "[[[5, 3, 4, 6, 7, 8, 1, 9, 2],\n",
       "  [6, 7, 2, 1, 9, 5, 3, 4, 8],\n",
       "  [1, 9, 8, 3, 4, 2, 5, 6, 7],\n",
       "  [8, 5, 9, 7, 6, 1, 4, 2, 3],\n",
       "  [4, 2, 6, 8, 5, 3, 9, 7, 1],\n",
       "  [7, 1, 3, 9, 2, 4, 8, 5, 6],\n",
       "  [9, 6, 1, 5, 3, 7, 2, 8, 4],\n",
       "  [2, 8, 7, 4, 1, 9, 6, 3, 5],\n",
       "  [3, 4, 5, 2, 8, 6, 7, 1, 9]],\n",
       " [[5, 3, 4, 6, 7, 8, 9, 1, 2],\n",
       "  [6, 7, 2, 1, 9, 5, 3, 4, 8],\n",
       "  [1, 9, 8, 3, 4, 2, 5, 6, 7],\n",
       "  [8, 5, 9, 7, 6, 1, 4, 2, 3],\n",
       "  [4, 2, 6, 8, 5, 3, 7, 9, 1],\n",
       "  [7, 1, 3, 9, 2, 4, 8, 5, 6],\n",
       "  [9, 6, 1, 5, 3, 7, 2, 8, 4],\n",
       "  [2, 8, 7, 4, 1, 9, 6, 3, 5],\n",
       "  [3, 4, 5, 2, 8, 6, 1, 7, 9]]]"
      ]
     },
     "execution_count": 8,
     "metadata": {},
     "output_type": "execute_result"
    }
   ],
   "source": [
    "solutions"
   ]
  },
  {
   "cell_type": "code",
   "execution_count": null,
   "metadata": {},
   "outputs": [],
   "source": []
  }
 ],
 "metadata": {
  "kernelspec": {
   "display_name": "Python 3",
   "language": "python",
   "name": "python3"
  },
  "language_info": {
   "codemirror_mode": {
    "name": "ipython",
    "version": 3
   },
   "file_extension": ".py",
   "mimetype": "text/x-python",
   "name": "python",
   "nbconvert_exporter": "python",
   "pygments_lexer": "ipython3",
   "version": "3.7.3"
  }
 },
 "nbformat": 4,
 "nbformat_minor": 4
}
